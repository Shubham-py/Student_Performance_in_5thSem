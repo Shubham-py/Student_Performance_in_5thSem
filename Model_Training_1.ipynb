{
 "cells": [
  {
   "cell_type": "markdown",
   "id": "fbafede4",
   "metadata": {},
   "source": [
    "Model Training\n",
    "\n",
    "Import Data and Required Packages"
   ]
  },
  {
   "cell_type": "code",
   "execution_count": 43,
   "id": "7d538ea8",
   "metadata": {},
   "outputs": [],
   "source": [
    "import numpy as np\n",
    "import pandas as pd\n",
    "import matplotlib.pyplot as plt \n",
    "import seaborn as sns\n",
    "# Modelling\n",
    "from sklearn.metrics import mean_squared_error, r2_score\n",
    "from sklearn.neighbors import KNeighborsRegressor\n",
    "from sklearn.tree import DecisionTreeRegressor\n",
    "from sklearn.ensemble import RandomForestRegressor,AdaBoostRegressor\n",
    "from sklearn.svm import SVR\n",
    "from sklearn.linear_model import LinearRegression, Ridge,Lasso\n",
    "from sklearn.metrics import r2_score, mean_absolute_error, mean_squared_error\n",
    "from sklearn.model_selection import RandomizedSearchCV\n",
    "from catboost import CatBoostRegressor\n",
    "from xgboost import XGBRegressor\n",
    "import warnings\n"
   ]
  },
  {
   "cell_type": "code",
   "execution_count": 3,
   "id": "11d65188",
   "metadata": {},
   "outputs": [],
   "source": [
    "df = pd.read_csv('Student_data.csv')"
   ]
  },
  {
   "cell_type": "code",
   "execution_count": 4,
   "id": "bd5d29fc",
   "metadata": {},
   "outputs": [
    {
     "data": {
      "text/html": [
       "<div>\n",
       "<style scoped>\n",
       "    .dataframe tbody tr th:only-of-type {\n",
       "        vertical-align: middle;\n",
       "    }\n",
       "\n",
       "    .dataframe tbody tr th {\n",
       "        vertical-align: top;\n",
       "    }\n",
       "\n",
       "    .dataframe thead th {\n",
       "        text-align: right;\n",
       "    }\n",
       "</style>\n",
       "<table border=\"1\" class=\"dataframe\">\n",
       "  <thead>\n",
       "    <tr style=\"text-align: right;\">\n",
       "      <th></th>\n",
       "      <th>1st</th>\n",
       "      <th>2nd</th>\n",
       "      <th>3rd</th>\n",
       "      <th>4th</th>\n",
       "      <th>5th</th>\n",
       "      <th>College Code</th>\n",
       "      <th>Gender</th>\n",
       "      <th>Roll</th>\n",
       "      <th>Roll no.</th>\n",
       "      <th>Subject Code</th>\n",
       "    </tr>\n",
       "  </thead>\n",
       "  <tbody>\n",
       "    <tr>\n",
       "      <th>0</th>\n",
       "      <td>8.11</td>\n",
       "      <td>7.68</td>\n",
       "      <td>7.11</td>\n",
       "      <td>7.43</td>\n",
       "      <td>8.18</td>\n",
       "      <td>115</td>\n",
       "      <td>Female</td>\n",
       "      <td>NaN</td>\n",
       "      <td>17020.0</td>\n",
       "      <td>16</td>\n",
       "    </tr>\n",
       "    <tr>\n",
       "      <th>1</th>\n",
       "      <td>6.48</td>\n",
       "      <td>5.90</td>\n",
       "      <td>4.15</td>\n",
       "      <td>4.29</td>\n",
       "      <td>4.96</td>\n",
       "      <td>115</td>\n",
       "      <td>Male</td>\n",
       "      <td>NaN</td>\n",
       "      <td>17021.0</td>\n",
       "      <td>16</td>\n",
       "    </tr>\n",
       "    <tr>\n",
       "      <th>2</th>\n",
       "      <td>8.41</td>\n",
       "      <td>8.24</td>\n",
       "      <td>7.52</td>\n",
       "      <td>8.25</td>\n",
       "      <td>7.75</td>\n",
       "      <td>115</td>\n",
       "      <td>Female</td>\n",
       "      <td>NaN</td>\n",
       "      <td>17022.0</td>\n",
       "      <td>16</td>\n",
       "    </tr>\n",
       "    <tr>\n",
       "      <th>3</th>\n",
       "      <td>7.33</td>\n",
       "      <td>6.83</td>\n",
       "      <td>6.33</td>\n",
       "      <td>6.79</td>\n",
       "      <td>6.89</td>\n",
       "      <td>115</td>\n",
       "      <td>Male</td>\n",
       "      <td>NaN</td>\n",
       "      <td>17023.0</td>\n",
       "      <td>16</td>\n",
       "    </tr>\n",
       "    <tr>\n",
       "      <th>4</th>\n",
       "      <td>7.89</td>\n",
       "      <td>7.34</td>\n",
       "      <td>7.22</td>\n",
       "      <td>7.32</td>\n",
       "      <td>7.46</td>\n",
       "      <td>115</td>\n",
       "      <td>Male</td>\n",
       "      <td>NaN</td>\n",
       "      <td>17024.0</td>\n",
       "      <td>16</td>\n",
       "    </tr>\n",
       "  </tbody>\n",
       "</table>\n",
       "</div>"
      ],
      "text/plain": [
       "    1st   2nd   3rd   4th   5th  College Code  Gender  Roll  Roll no.  \\\n",
       "0  8.11  7.68  7.11  7.43  8.18           115  Female   NaN   17020.0   \n",
       "1  6.48  5.90  4.15  4.29  4.96           115    Male   NaN   17021.0   \n",
       "2  8.41  8.24  7.52  8.25  7.75           115  Female   NaN   17022.0   \n",
       "3  7.33  6.83  6.33  6.79  6.89           115    Male   NaN   17023.0   \n",
       "4  7.89  7.34  7.22  7.32  7.46           115    Male   NaN   17024.0   \n",
       "\n",
       "   Subject Code  \n",
       "0            16  \n",
       "1            16  \n",
       "2            16  \n",
       "3            16  \n",
       "4            16  "
      ]
     },
     "execution_count": 4,
     "metadata": {},
     "output_type": "execute_result"
    }
   ],
   "source": [
    "df.head(5)"
   ]
  },
  {
   "cell_type": "code",
   "execution_count": 7,
   "id": "4bad43ba",
   "metadata": {},
   "outputs": [
    {
     "data": {
      "text/plain": [
       "1st               2\n",
       "2nd               4\n",
       "3rd               2\n",
       "4th               5\n",
       "5th               6\n",
       "College Code      0\n",
       "Gender            1\n",
       "Roll             46\n",
       "Roll no.        132\n",
       "Subject Code      0\n",
       "dtype: int64"
      ]
     },
     "execution_count": 7,
     "metadata": {},
     "output_type": "execute_result"
    }
   ],
   "source": [
    "df.isna().sum()"
   ]
  },
  {
   "cell_type": "code",
   "execution_count": 109,
   "id": "52359033",
   "metadata": {},
   "outputs": [],
   "source": [
    "df.drop(columns=['Roll','Roll no.'],inplace=True)"
   ]
  },
  {
   "cell_type": "code",
   "execution_count": 112,
   "id": "e508dbc4",
   "metadata": {},
   "outputs": [
    {
     "name": "stdout",
     "output_type": "stream",
     "text": [
      "<class 'pandas.core.frame.DataFrame'>\n",
      "RangeIndex: 178 entries, 0 to 177\n",
      "Data columns (total 8 columns):\n",
      " #   Column        Non-Null Count  Dtype  \n",
      "---  ------        --------------  -----  \n",
      " 0   1st           176 non-null    float64\n",
      " 1   2nd           174 non-null    float64\n",
      " 2   3rd           176 non-null    float64\n",
      " 3   4th           173 non-null    float64\n",
      " 4   5th           172 non-null    float64\n",
      " 5   College Code  178 non-null    int64  \n",
      " 6   Gender        177 non-null    object \n",
      " 7   Subject Code  178 non-null    int64  \n",
      "dtypes: float64(5), int64(2), object(1)\n",
      "memory usage: 11.2+ KB\n"
     ]
    }
   ],
   "source": [
    "df.info()"
   ]
  },
  {
   "cell_type": "code",
   "execution_count": 143,
   "id": "2d35a023",
   "metadata": {},
   "outputs": [
    {
     "data": {
      "text/plain": [
       "1st             2\n",
       "2nd             4\n",
       "3rd             2\n",
       "4th             5\n",
       "5th             6\n",
       "College Code    0\n",
       "Gender          1\n",
       "Subject Code    0\n",
       "dtype: int64"
      ]
     },
     "execution_count": 143,
     "metadata": {},
     "output_type": "execute_result"
    }
   ],
   "source": [
    "df.isna().sum()"
   ]
  },
  {
   "cell_type": "code",
   "execution_count": 167,
   "id": "0b794099",
   "metadata": {},
   "outputs": [
    {
     "data": {
      "text/plain": [
       "7.038863636363637"
      ]
     },
     "execution_count": 167,
     "metadata": {},
     "output_type": "execute_result"
    }
   ],
   "source": [
    "df['1st'].mean()"
   ]
  },
  {
   "cell_type": "code",
   "execution_count": 168,
   "id": "02ef350d",
   "metadata": {},
   "outputs": [],
   "source": [
    "df['Gender'].fillna(0,inplace=True)                 # Replacing Null values from 0 \n",
    "\n",
    "\n",
    "df['1st'].fillna(df['1st'].mean(),inplace = True)        # Replacing Null values from 0  \n",
    "df['2nd'].fillna(df['2nd'].mean(),inplace=True)        # Replacing Null values from 0  \n",
    "df['3rd'].fillna(df['3rd'].mean(),inplace=True)        # Replacing Null values from 0  \n",
    "df['4th'].fillna(df['4th'].mean(),inplace=True)        # Replacing Null values from 0  \n",
    "df['5th'].fillna(df['5th'].mean(),inplace=True)        # Replacing Null values from 0  "
   ]
  },
  {
   "cell_type": "code",
   "execution_count": 169,
   "id": "8f322cb8",
   "metadata": {},
   "outputs": [
    {
     "data": {
      "text/plain": [
       "1st             0\n",
       "2nd             0\n",
       "3rd             0\n",
       "4th             0\n",
       "5th             0\n",
       "College Code    0\n",
       "Gender          0\n",
       "Subject Code    0\n",
       "dtype: int64"
      ]
     },
     "execution_count": 169,
     "metadata": {},
     "output_type": "execute_result"
    }
   ],
   "source": [
    "df.isnull().sum()"
   ]
  },
  {
   "cell_type": "markdown",
   "id": "2bcced54",
   "metadata": {},
   "source": [
    "Preparing X and Y variables"
   ]
  },
  {
   "cell_type": "code",
   "execution_count": 250,
   "id": "32429fce",
   "metadata": {},
   "outputs": [],
   "source": [
    "df1 = df[['1st','2nd', '3rd', '4th','5th']] \n"
   ]
  },
  {
   "cell_type": "code",
   "execution_count": 251,
   "id": "973f687a",
   "metadata": {},
   "outputs": [
    {
     "data": {
      "text/html": [
       "<div>\n",
       "<style scoped>\n",
       "    .dataframe tbody tr th:only-of-type {\n",
       "        vertical-align: middle;\n",
       "    }\n",
       "\n",
       "    .dataframe tbody tr th {\n",
       "        vertical-align: top;\n",
       "    }\n",
       "\n",
       "    .dataframe thead th {\n",
       "        text-align: right;\n",
       "    }\n",
       "</style>\n",
       "<table border=\"1\" class=\"dataframe\">\n",
       "  <thead>\n",
       "    <tr style=\"text-align: right;\">\n",
       "      <th></th>\n",
       "      <th>1st</th>\n",
       "      <th>2nd</th>\n",
       "      <th>3rd</th>\n",
       "      <th>4th</th>\n",
       "      <th>5th</th>\n",
       "    </tr>\n",
       "  </thead>\n",
       "  <tbody>\n",
       "    <tr>\n",
       "      <th>0</th>\n",
       "      <td>8.11</td>\n",
       "      <td>7.68</td>\n",
       "      <td>7.11</td>\n",
       "      <td>7.43</td>\n",
       "      <td>8.18</td>\n",
       "    </tr>\n",
       "    <tr>\n",
       "      <th>1</th>\n",
       "      <td>6.48</td>\n",
       "      <td>5.90</td>\n",
       "      <td>4.15</td>\n",
       "      <td>4.29</td>\n",
       "      <td>4.96</td>\n",
       "    </tr>\n",
       "    <tr>\n",
       "      <th>2</th>\n",
       "      <td>8.41</td>\n",
       "      <td>8.24</td>\n",
       "      <td>7.52</td>\n",
       "      <td>8.25</td>\n",
       "      <td>7.75</td>\n",
       "    </tr>\n",
       "    <tr>\n",
       "      <th>3</th>\n",
       "      <td>7.33</td>\n",
       "      <td>6.83</td>\n",
       "      <td>6.33</td>\n",
       "      <td>6.79</td>\n",
       "      <td>6.89</td>\n",
       "    </tr>\n",
       "    <tr>\n",
       "      <th>4</th>\n",
       "      <td>7.89</td>\n",
       "      <td>7.34</td>\n",
       "      <td>7.22</td>\n",
       "      <td>7.32</td>\n",
       "      <td>7.46</td>\n",
       "    </tr>\n",
       "    <tr>\n",
       "      <th>...</th>\n",
       "      <td>...</td>\n",
       "      <td>...</td>\n",
       "      <td>...</td>\n",
       "      <td>...</td>\n",
       "      <td>...</td>\n",
       "    </tr>\n",
       "    <tr>\n",
       "      <th>173</th>\n",
       "      <td>7.48</td>\n",
       "      <td>7.55</td>\n",
       "      <td>7.67</td>\n",
       "      <td>7.39</td>\n",
       "      <td>8.65</td>\n",
       "    </tr>\n",
       "    <tr>\n",
       "      <th>174</th>\n",
       "      <td>7.30</td>\n",
       "      <td>6.41</td>\n",
       "      <td>6.59</td>\n",
       "      <td>7.11</td>\n",
       "      <td>7.38</td>\n",
       "    </tr>\n",
       "    <tr>\n",
       "      <th>175</th>\n",
       "      <td>6.30</td>\n",
       "      <td>6.28</td>\n",
       "      <td>5.89</td>\n",
       "      <td>5.71</td>\n",
       "      <td>6.50</td>\n",
       "    </tr>\n",
       "    <tr>\n",
       "      <th>176</th>\n",
       "      <td>7.04</td>\n",
       "      <td>7.10</td>\n",
       "      <td>6.81</td>\n",
       "      <td>7.00</td>\n",
       "      <td>6.92</td>\n",
       "    </tr>\n",
       "    <tr>\n",
       "      <th>177</th>\n",
       "      <td>6.70</td>\n",
       "      <td>6.81</td>\n",
       "      <td>6.52</td>\n",
       "      <td>5.39</td>\n",
       "      <td>7.00</td>\n",
       "    </tr>\n",
       "  </tbody>\n",
       "</table>\n",
       "<p>178 rows × 5 columns</p>\n",
       "</div>"
      ],
      "text/plain": [
       "      1st   2nd   3rd   4th   5th\n",
       "0    8.11  7.68  7.11  7.43  8.18\n",
       "1    6.48  5.90  4.15  4.29  4.96\n",
       "2    8.41  8.24  7.52  8.25  7.75\n",
       "3    7.33  6.83  6.33  6.79  6.89\n",
       "4    7.89  7.34  7.22  7.32  7.46\n",
       "..    ...   ...   ...   ...   ...\n",
       "173  7.48  7.55  7.67  7.39  8.65\n",
       "174  7.30  6.41  6.59  7.11  7.38\n",
       "175  6.30  6.28  5.89  5.71  6.50\n",
       "176  7.04  7.10  6.81  7.00  6.92\n",
       "177  6.70  6.81  6.52  5.39  7.00\n",
       "\n",
       "[178 rows x 5 columns]"
      ]
     },
     "execution_count": 251,
     "metadata": {},
     "output_type": "execute_result"
    }
   ],
   "source": [
    "df1"
   ]
  },
  {
   "cell_type": "code",
   "execution_count": 257,
   "id": "48978570",
   "metadata": {},
   "outputs": [
    {
     "data": {
      "text/plain": [
       "((142, 4), (36, 4))"
      ]
     },
     "execution_count": 257,
     "metadata": {},
     "output_type": "execute_result"
    }
   ],
   "source": [
    "# separate dataset into train and test\n",
    "from sklearn.model_selection import train_test_split\n",
    "X_train, X_test, y_train, y_test = train_test_split(X,y,test_size=0.2,random_state=42)\n",
    "X_train.shape, X_test.shape"
   ]
  },
  {
   "cell_type": "code",
   "execution_count": 258,
   "id": "4d667305",
   "metadata": {},
   "outputs": [],
   "source": [
    "X = df1[['1st','2nd','3rd','4th']] \n",
    "y = df1['5th']  \n",
    "\n",
    "X_train, X_test, y_train, y_test = train_test_split(X , y, test_size=1/3, random_state=21)\n"
   ]
  },
  {
   "cell_type": "code",
   "execution_count": 259,
   "id": "326a3703",
   "metadata": {},
   "outputs": [
    {
     "data": {
      "text/html": [
       "<div>\n",
       "<style scoped>\n",
       "    .dataframe tbody tr th:only-of-type {\n",
       "        vertical-align: middle;\n",
       "    }\n",
       "\n",
       "    .dataframe tbody tr th {\n",
       "        vertical-align: top;\n",
       "    }\n",
       "\n",
       "    .dataframe thead th {\n",
       "        text-align: right;\n",
       "    }\n",
       "</style>\n",
       "<table border=\"1\" class=\"dataframe\">\n",
       "  <thead>\n",
       "    <tr style=\"text-align: right;\">\n",
       "      <th></th>\n",
       "      <th>1st</th>\n",
       "      <th>2nd</th>\n",
       "      <th>3rd</th>\n",
       "      <th>4th</th>\n",
       "    </tr>\n",
       "  </thead>\n",
       "  <tbody>\n",
       "    <tr>\n",
       "      <th>0</th>\n",
       "      <td>8.11</td>\n",
       "      <td>7.68</td>\n",
       "      <td>7.11</td>\n",
       "      <td>7.43</td>\n",
       "    </tr>\n",
       "    <tr>\n",
       "      <th>1</th>\n",
       "      <td>6.48</td>\n",
       "      <td>5.90</td>\n",
       "      <td>4.15</td>\n",
       "      <td>4.29</td>\n",
       "    </tr>\n",
       "    <tr>\n",
       "      <th>2</th>\n",
       "      <td>8.41</td>\n",
       "      <td>8.24</td>\n",
       "      <td>7.52</td>\n",
       "      <td>8.25</td>\n",
       "    </tr>\n",
       "    <tr>\n",
       "      <th>3</th>\n",
       "      <td>7.33</td>\n",
       "      <td>6.83</td>\n",
       "      <td>6.33</td>\n",
       "      <td>6.79</td>\n",
       "    </tr>\n",
       "    <tr>\n",
       "      <th>4</th>\n",
       "      <td>7.89</td>\n",
       "      <td>7.34</td>\n",
       "      <td>7.22</td>\n",
       "      <td>7.32</td>\n",
       "    </tr>\n",
       "    <tr>\n",
       "      <th>...</th>\n",
       "      <td>...</td>\n",
       "      <td>...</td>\n",
       "      <td>...</td>\n",
       "      <td>...</td>\n",
       "    </tr>\n",
       "    <tr>\n",
       "      <th>173</th>\n",
       "      <td>7.48</td>\n",
       "      <td>7.55</td>\n",
       "      <td>7.67</td>\n",
       "      <td>7.39</td>\n",
       "    </tr>\n",
       "    <tr>\n",
       "      <th>174</th>\n",
       "      <td>7.30</td>\n",
       "      <td>6.41</td>\n",
       "      <td>6.59</td>\n",
       "      <td>7.11</td>\n",
       "    </tr>\n",
       "    <tr>\n",
       "      <th>175</th>\n",
       "      <td>6.30</td>\n",
       "      <td>6.28</td>\n",
       "      <td>5.89</td>\n",
       "      <td>5.71</td>\n",
       "    </tr>\n",
       "    <tr>\n",
       "      <th>176</th>\n",
       "      <td>7.04</td>\n",
       "      <td>7.10</td>\n",
       "      <td>6.81</td>\n",
       "      <td>7.00</td>\n",
       "    </tr>\n",
       "    <tr>\n",
       "      <th>177</th>\n",
       "      <td>6.70</td>\n",
       "      <td>6.81</td>\n",
       "      <td>6.52</td>\n",
       "      <td>5.39</td>\n",
       "    </tr>\n",
       "  </tbody>\n",
       "</table>\n",
       "<p>178 rows × 4 columns</p>\n",
       "</div>"
      ],
      "text/plain": [
       "      1st   2nd   3rd   4th\n",
       "0    8.11  7.68  7.11  7.43\n",
       "1    6.48  5.90  4.15  4.29\n",
       "2    8.41  8.24  7.52  8.25\n",
       "3    7.33  6.83  6.33  6.79\n",
       "4    7.89  7.34  7.22  7.32\n",
       "..    ...   ...   ...   ...\n",
       "173  7.48  7.55  7.67  7.39\n",
       "174  7.30  6.41  6.59  7.11\n",
       "175  6.30  6.28  5.89  5.71\n",
       "176  7.04  7.10  6.81  7.00\n",
       "177  6.70  6.81  6.52  5.39\n",
       "\n",
       "[178 rows x 4 columns]"
      ]
     },
     "execution_count": 259,
     "metadata": {},
     "output_type": "execute_result"
    }
   ],
   "source": [
    "X"
   ]
  },
  {
   "cell_type": "code",
   "execution_count": 261,
   "id": "cb7770e6",
   "metadata": {},
   "outputs": [
    {
     "data": {
      "text/plain": [
       "0      8.18\n",
       "1      4.96\n",
       "2      7.75\n",
       "3      6.89\n",
       "4      7.46\n",
       "       ... \n",
       "173    8.65\n",
       "174    7.38\n",
       "175    6.50\n",
       "176    6.92\n",
       "177    7.00\n",
       "Name: 5th, Length: 178, dtype: float64"
      ]
     },
     "execution_count": 261,
     "metadata": {},
     "output_type": "execute_result"
    }
   ],
   "source": [
    "y"
   ]
  },
  {
   "cell_type": "markdown",
   "id": "83210895",
   "metadata": {},
   "source": [
    "Create an Evaluate Function to give all metrics after model Trainin"
   ]
  },
  {
   "cell_type": "code",
   "execution_count": 262,
   "id": "544a4dbb",
   "metadata": {},
   "outputs": [],
   "source": [
    "def evaluate_model(true, predicted):\n",
    "    mae = mean_absolute_error(true, predicted)\n",
    "    mse = mean_squared_error(true, predicted)\n",
    "    rmse = np.sqrt(mean_squared_error(true, predicted))\n",
    "    r2_square = r2_score(true, predicted)\n",
    "    return mae, rmse, r2_square"
   ]
  },
  {
   "cell_type": "code",
   "execution_count": 263,
   "id": "68257344",
   "metadata": {},
   "outputs": [
    {
     "name": "stdout",
     "output_type": "stream",
     "text": [
      "Linear Regression\n",
      "Model performance for Training set\n",
      "- Root Mean Squared Error: 0.5741\n",
      "- Mean Absolute Error: 0.4262\n",
      "- R2 Score: 0.7202\n",
      "----------------------------------\n",
      "Model performance for Test set\n",
      "- Root Mean Squared Error: 0.5083\n",
      "- Mean Absolute Error: 0.4039\n",
      "- R2 Score: 0.7243\n",
      "===========================\n",
      "\n",
      "\n",
      "Lasso\n",
      "Model performance for Training set\n",
      "- Root Mean Squared Error: 1.0855\n",
      "- Mean Absolute Error: 0.8704\n",
      "- R2 Score: 0.0000\n",
      "----------------------------------\n",
      "Model performance for Test set\n",
      "- Root Mean Squared Error: 0.9694\n",
      "- Mean Absolute Error: 0.7716\n",
      "- R2 Score: -0.0028\n",
      "===========================\n",
      "\n",
      "\n",
      "Ridge\n",
      "Model performance for Training set\n",
      "- Root Mean Squared Error: 0.5742\n",
      "- Mean Absolute Error: 0.4264\n",
      "- R2 Score: 0.7202\n",
      "----------------------------------\n",
      "Model performance for Test set\n",
      "- Root Mean Squared Error: 0.5091\n",
      "- Mean Absolute Error: 0.4048\n",
      "- R2 Score: 0.7234\n",
      "===========================\n",
      "\n",
      "\n",
      "K-Neighbors Regressor\n",
      "Model performance for Training set\n",
      "- Root Mean Squared Error: 0.5428\n",
      "- Mean Absolute Error: 0.3887\n",
      "- R2 Score: 0.7499\n",
      "----------------------------------\n",
      "Model performance for Test set\n",
      "- Root Mean Squared Error: 0.5431\n",
      "- Mean Absolute Error: 0.4401\n",
      "- R2 Score: 0.6852\n",
      "===========================\n",
      "\n",
      "\n",
      "Decision Tree\n",
      "Model performance for Training set\n",
      "- Root Mean Squared Error: 0.0000\n",
      "- Mean Absolute Error: 0.0000\n",
      "- R2 Score: 1.0000\n",
      "----------------------------------\n",
      "Model performance for Test set\n",
      "- Root Mean Squared Error: 0.6427\n",
      "- Mean Absolute Error: 0.5153\n",
      "- R2 Score: 0.5593\n",
      "===========================\n",
      "\n",
      "\n",
      "Random Forest Regressor\n",
      "Model performance for Training set\n",
      "- Root Mean Squared Error: 0.2501\n",
      "- Mean Absolute Error: 0.1834\n",
      "- R2 Score: 0.9469\n",
      "----------------------------------\n",
      "Model performance for Test set\n",
      "- Root Mean Squared Error: 0.5216\n",
      "- Mean Absolute Error: 0.4053\n",
      "- R2 Score: 0.7097\n",
      "===========================\n",
      "\n",
      "\n",
      "XGBRegressor\n",
      "Model performance for Training set\n",
      "- Root Mean Squared Error: 0.0017\n",
      "- Mean Absolute Error: 0.0011\n",
      "- R2 Score: 1.0000\n",
      "----------------------------------\n",
      "Model performance for Test set\n",
      "- Root Mean Squared Error: 0.5940\n",
      "- Mean Absolute Error: 0.4817\n",
      "- R2 Score: 0.6235\n",
      "===========================\n",
      "\n",
      "\n",
      "CatBoosting Regressor\n",
      "Model performance for Training set\n",
      "- Root Mean Squared Error: 0.0890\n",
      "- Mean Absolute Error: 0.0700\n",
      "- R2 Score: 0.9933\n",
      "----------------------------------\n",
      "Model performance for Test set\n",
      "- Root Mean Squared Error: 0.5096\n",
      "- Mean Absolute Error: 0.4151\n",
      "- R2 Score: 0.7229\n",
      "===========================\n",
      "\n",
      "\n",
      "AdaBoost Regressor\n",
      "Model performance for Training set\n",
      "- Root Mean Squared Error: 0.4134\n",
      "- Mean Absolute Error: 0.3448\n",
      "- R2 Score: 0.8549\n",
      "----------------------------------\n",
      "Model performance for Test set\n",
      "- Root Mean Squared Error: 0.5461\n",
      "- Mean Absolute Error: 0.4160\n",
      "- R2 Score: 0.6817\n",
      "===========================\n",
      "\n",
      "\n"
     ]
    }
   ],
   "source": [
    "models = {\n",
    "    \"Linear Regression\": LinearRegression(),\n",
    "    \"Lasso\": Lasso(),\n",
    "    \"Ridge\": Ridge(),\n",
    "    \"K-Neighbors Regressor\": KNeighborsRegressor(),\n",
    "    \"Decision Tree\": DecisionTreeRegressor(),\n",
    "    \"Random Forest Regressor\": RandomForestRegressor(),\n",
    "    \"XGBRegressor\": XGBRegressor(), \n",
    "    \"CatBoosting Regressor\": CatBoostRegressor(verbose=False),\n",
    "    \"AdaBoost Regressor\": AdaBoostRegressor()\n",
    "}\n",
    "model_list = []\n",
    "r2_list =[]\n",
    "\n",
    "for i in range(len(list(models))):\n",
    "    model = list(models.values())[i]\n",
    "    model.fit(X_train, y_train) # Train model\n",
    "\n",
    "    # Make predictions\n",
    "    y_train_pred = model.predict(X_train)\n",
    "    y_test_pred = model.predict(X_test)\n",
    "    \n",
    "    # Evaluate Train and Test dataset\n",
    "    model_train_mae , model_train_rmse, model_train_r2 = evaluate_model(y_train, y_train_pred)\n",
    "\n",
    "    model_test_mae , model_test_rmse, model_test_r2 = evaluate_model(y_test, y_test_pred)\n",
    "\n",
    "    \n",
    "    print(list(models.keys())[i])\n",
    "    model_list.append(list(models.keys())[i])\n",
    "    \n",
    "    print('Model performance for Training set')\n",
    "    print(\"- Root Mean Squared Error: {:.4f}\".format(model_train_rmse))\n",
    "    print(\"- Mean Absolute Error: {:.4f}\".format(model_train_mae))\n",
    "    print(\"- R2 Score: {:.4f}\".format(model_train_r2))\n",
    "\n",
    "    print('----------------------------------')\n",
    "    \n",
    "    print('Model performance for Test set')\n",
    "    print(\"- Root Mean Squared Error: {:.4f}\".format(model_test_rmse))\n",
    "    print(\"- Mean Absolute Error: {:.4f}\".format(model_test_mae))\n",
    "    print(\"- R2 Score: {:.4f}\".format(model_test_r2))\n",
    "    r2_list.append(model_test_r2)\n",
    "    \n",
    "    print('='*27)\n",
    "    print('\\n')"
   ]
  },
  {
   "cell_type": "markdown",
   "id": "d635a7a4",
   "metadata": {},
   "source": [
    "Results"
   ]
  },
  {
   "cell_type": "code",
   "execution_count": 264,
   "id": "f03209d2",
   "metadata": {},
   "outputs": [
    {
     "data": {
      "text/html": [
       "<div>\n",
       "<style scoped>\n",
       "    .dataframe tbody tr th:only-of-type {\n",
       "        vertical-align: middle;\n",
       "    }\n",
       "\n",
       "    .dataframe tbody tr th {\n",
       "        vertical-align: top;\n",
       "    }\n",
       "\n",
       "    .dataframe thead th {\n",
       "        text-align: right;\n",
       "    }\n",
       "</style>\n",
       "<table border=\"1\" class=\"dataframe\">\n",
       "  <thead>\n",
       "    <tr style=\"text-align: right;\">\n",
       "      <th></th>\n",
       "      <th>Model Name</th>\n",
       "      <th>R2_Score</th>\n",
       "    </tr>\n",
       "  </thead>\n",
       "  <tbody>\n",
       "    <tr>\n",
       "      <th>0</th>\n",
       "      <td>Linear Regression</td>\n",
       "      <td>0.724313</td>\n",
       "    </tr>\n",
       "    <tr>\n",
       "      <th>2</th>\n",
       "      <td>Ridge</td>\n",
       "      <td>0.723384</td>\n",
       "    </tr>\n",
       "    <tr>\n",
       "      <th>7</th>\n",
       "      <td>CatBoosting Regressor</td>\n",
       "      <td>0.722935</td>\n",
       "    </tr>\n",
       "    <tr>\n",
       "      <th>5</th>\n",
       "      <td>Random Forest Regressor</td>\n",
       "      <td>0.709730</td>\n",
       "    </tr>\n",
       "    <tr>\n",
       "      <th>3</th>\n",
       "      <td>K-Neighbors Regressor</td>\n",
       "      <td>0.685240</td>\n",
       "    </tr>\n",
       "    <tr>\n",
       "      <th>8</th>\n",
       "      <td>AdaBoost Regressor</td>\n",
       "      <td>0.681721</td>\n",
       "    </tr>\n",
       "    <tr>\n",
       "      <th>6</th>\n",
       "      <td>XGBRegressor</td>\n",
       "      <td>0.623452</td>\n",
       "    </tr>\n",
       "    <tr>\n",
       "      <th>4</th>\n",
       "      <td>Decision Tree</td>\n",
       "      <td>0.559303</td>\n",
       "    </tr>\n",
       "    <tr>\n",
       "      <th>1</th>\n",
       "      <td>Lasso</td>\n",
       "      <td>-0.002798</td>\n",
       "    </tr>\n",
       "  </tbody>\n",
       "</table>\n",
       "</div>"
      ],
      "text/plain": [
       "                Model Name  R2_Score\n",
       "0        Linear Regression  0.724313\n",
       "2                    Ridge  0.723384\n",
       "7    CatBoosting Regressor  0.722935\n",
       "5  Random Forest Regressor  0.709730\n",
       "3    K-Neighbors Regressor  0.685240\n",
       "8       AdaBoost Regressor  0.681721\n",
       "6             XGBRegressor  0.623452\n",
       "4            Decision Tree  0.559303\n",
       "1                    Lasso -0.002798"
      ]
     },
     "execution_count": 264,
     "metadata": {},
     "output_type": "execute_result"
    }
   ],
   "source": [
    "pd.DataFrame(list(zip(model_list, r2_list)), columns=['Model Name', 'R2_Score']).sort_values(by=[\"R2_Score\"],ascending=False)"
   ]
  },
  {
   "cell_type": "markdown",
   "id": "a3728f4b",
   "metadata": {},
   "source": [
    "\n",
    "Linear Regression"
   ]
  },
  {
   "cell_type": "code",
   "execution_count": 266,
   "id": "dbb4eeec",
   "metadata": {},
   "outputs": [
    {
     "data": {
      "text/plain": [
       "72.43"
      ]
     },
     "execution_count": 266,
     "metadata": {},
     "output_type": "execute_result"
    }
   ],
   "source": [
    "import sklearn.linear_model as skl_lm\n",
    "regr = skl_lm.LinearRegression()\n",
    "regr.fit(X_train,y_train)\n",
    "\n",
    "round( (regr.score(X_test,y_test)*100) , 2   )"
   ]
  },
  {
   "cell_type": "markdown",
   "id": "c6a654e1",
   "metadata": {},
   "source": [
    "\n",
    "Difference between Actual and Predicted Values"
   ]
  },
  {
   "cell_type": "code",
   "execution_count": 267,
   "id": "24459eda",
   "metadata": {},
   "outputs": [
    {
     "data": {
      "text/html": [
       "<div>\n",
       "<style scoped>\n",
       "    .dataframe tbody tr th:only-of-type {\n",
       "        vertical-align: middle;\n",
       "    }\n",
       "\n",
       "    .dataframe tbody tr th {\n",
       "        vertical-align: top;\n",
       "    }\n",
       "\n",
       "    .dataframe thead th {\n",
       "        text-align: right;\n",
       "    }\n",
       "</style>\n",
       "<table border=\"1\" class=\"dataframe\">\n",
       "  <thead>\n",
       "    <tr style=\"text-align: right;\">\n",
       "      <th></th>\n",
       "      <th>Actual</th>\n",
       "      <th>Predicted</th>\n",
       "      <th>Difference</th>\n",
       "    </tr>\n",
       "  </thead>\n",
       "  <tbody>\n",
       "    <tr>\n",
       "      <th>13</th>\n",
       "      <td>7.00</td>\n",
       "      <td>7.148605</td>\n",
       "      <td>-0.15</td>\n",
       "    </tr>\n",
       "    <tr>\n",
       "      <th>113</th>\n",
       "      <td>8.21</td>\n",
       "      <td>7.635667</td>\n",
       "      <td>0.57</td>\n",
       "    </tr>\n",
       "    <tr>\n",
       "      <th>21</th>\n",
       "      <td>8.93</td>\n",
       "      <td>8.745476</td>\n",
       "      <td>0.18</td>\n",
       "    </tr>\n",
       "    <tr>\n",
       "      <th>143</th>\n",
       "      <td>8.38</td>\n",
       "      <td>8.904392</td>\n",
       "      <td>-0.52</td>\n",
       "    </tr>\n",
       "    <tr>\n",
       "      <th>173</th>\n",
       "      <td>8.65</td>\n",
       "      <td>8.048572</td>\n",
       "      <td>0.60</td>\n",
       "    </tr>\n",
       "  </tbody>\n",
       "</table>\n",
       "</div>"
      ],
      "text/plain": [
       "     Actual  Predicted  Difference\n",
       "13     7.00   7.148605       -0.15\n",
       "113    8.21   7.635667        0.57\n",
       "21     8.93   8.745476        0.18\n",
       "143    8.38   8.904392       -0.52\n",
       "173    8.65   8.048572        0.60"
      ]
     },
     "execution_count": 267,
     "metadata": {},
     "output_type": "execute_result"
    }
   ],
   "source": [
    "y_pred = regr.predict(X_test)\n",
    "difference = y_test - y_pred\n",
    "dif = round(difference, 2)   \n",
    "df3 = pd.DataFrame({'Actual': y_test, 'Predicted': y_pred, 'Difference': dif})\n",
    "df3.head()"
   ]
  },
  {
   "cell_type": "markdown",
   "id": "ee9fde09",
   "metadata": {},
   "source": [
    "\n",
    "Plot y_train and y_test"
   ]
  },
  {
   "cell_type": "code",
   "execution_count": 268,
   "id": "47664384",
   "metadata": {},
   "outputs": [
    {
     "data": {
      "image/png": "[encoded data removed]",
      "text/plain": [
       "<Figure size 640x480 with 1 Axes>"
      ]
     },
     "metadata": {},
     "output_type": "display_data"
    }
   ],
   "source": [
    "plt.scatter(y_test,y_pred);\n",
    "plt.xlabel('Actual');\n",
    "plt.ylabel('Predicted');"
   ]
  },
  {
   "cell_type": "code",
   "execution_count": 269,
   "id": "22b8a55b",
   "metadata": {},
   "outputs": [
    {
     "data": {
      "image/png": "[encoded data removed]",
      "text/plain": [
       "<Figure size 640x480 with 1 Axes>"
      ]
     },
     "metadata": {},
     "output_type": "display_data"
    }
   ],
   "source": [
    "sns.regplot(x=y_test,y=y_pred,ci=None,color ='red'); "
   ]
  },
  {
   "cell_type": "code",
   "execution_count": null,
   "id": "cd89a56b",
   "metadata": {},
   "outputs": [],
   "source": []
  }
 ],
 "metadata": {
  "kernelspec": {
   "display_name": "Python 3 (ipykernel)",
   "language": "python",
   "name": "python3"
  },
  "language_info": {
   "codemirror_mode": {
    "name": "ipython",
    "version": 3
   },
   "file_extension": ".py",
   "mimetype": "text/x-python",
   "name": "python",
   "nbconvert_exporter": "python",
   "pygments_lexer": "ipython3",
   "version": "3.10.4"
  }
 },
 "nbformat": 4,
 "nbformat_minor": 5
}
